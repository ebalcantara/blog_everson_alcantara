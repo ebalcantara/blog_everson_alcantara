{
 "cells": [
  {
   "cell_type": "markdown",
   "id": "b0236d61",
   "metadata": {
    "id": "b0236d61"
   },
   "source": [
    "# Corretor ortográfico com Python\n",
    "> Criando e melhorando um corretor ortográfico utilizando Pythone NPL\n",
    "\n",
    "- toc: false\n",
    "- branch: master\n",
    "- badges:false\n",
    "- comments: false\n",
    "- author: Everson\n",
    "- categories: [blog]"
   ]
  },
  {
   "cell_type": "code",
   "execution_count": null,
   "id": "2f4ac77e",
   "metadata": {
    "id": "2f4ac77e",
    "outputId": "de9f7ccd-f10e-4832-9fb3-b4da5da1f162"
   },
   "outputs": [],
   "source": [
    "#hide_output\n",
    "with open(\"dados/artigos.txt\", \"r\", encoding = 'utf8') as f:\n",
    "    artigos = f.read()\n",
    "    \n",
    "print(artigos[:500])"
   ]
  },
  {
   "cell_type": "code",
   "execution_count": null,
   "id": "e8b5b2d8",
   "metadata": {
    "id": "e8b5b2d8",
    "outputId": "acb008e2-5850-4ed4-a2ea-fe60c49c0f91"
   },
   "outputs": [],
   "source": [
    "#hide_output\n",
    "len(artigos)"
   ]
  },
  {
   "cell_type": "code",
   "execution_count": null,
   "id": "53ce21cf",
   "metadata": {
    "id": "53ce21cf",
    "outputId": "056dbfeb-77d1-4bcb-ae33-cf25ccd70277"
   },
   "outputs": [],
   "source": [
    "#hide_output\n",
    "texto_exemplo = \"Olá, tudo bem?\"\n",
    "tokens = texto_exemplo.split()\n",
    "print(len(tokens))"
   ]
  },
  {
   "cell_type": "code",
   "execution_count": null,
   "id": "16825d66",
   "metadata": {
    "id": "16825d66",
    "outputId": "434042d9-5d4e-4f62-a2b4-bbfd035357a9"
   },
   "outputs": [],
   "source": [
    "#hide_output\n",
    "!pip3 install nltk\n",
    "import nltk\n",
    "nltk.download('punkt')\n",
    "palavras_separadas = nltk.tokenize.word_tokenize(texto_exemplo)"
   ]
  },
  {
   "cell_type": "code",
   "execution_count": null,
   "id": "acf4eb8b",
   "metadata": {
    "id": "acf4eb8b",
    "outputId": "b494b23d-098a-418a-fb77-1f4bd4d9d55d"
   },
   "outputs": [],
   "source": [
    "#hide_output\n",
    "print(palavras_separadas)"
   ]
  },
  {
   "cell_type": "code",
   "execution_count": null,
   "id": "c158245b",
   "metadata": {
    "id": "c158245b",
    "outputId": "e3248850-d2e4-4587-b273-aeb0f75f5cf4"
   },
   "outputs": [],
   "source": [
    "#hide_output\n",
    "len(palavras_separadas)"
   ]
  },
  {
   "cell_type": "code",
   "execution_count": null,
   "id": "54b0fe7c",
   "metadata": {
    "id": "54b0fe7c",
    "outputId": "0f8a57d1-4cb2-45d4-d223-3bbeefdd6c20"
   },
   "outputs": [],
   "source": [
    "#hide_output\n",
    "def separa_palavras(lista_tokens):\n",
    "    lista_palavras = []\n",
    "    for token in lista_tokens:\n",
    "        if token.isalpha():\n",
    "            lista_palavras.append(token)\n",
    "    return lista_palavras\n",
    "\n",
    "separa_palavras(palavras_separadas)"
   ]
  },
  {
   "cell_type": "code",
   "execution_count": null,
   "id": "088543a0",
   "metadata": {
    "id": "088543a0",
    "outputId": "2f2ded42-5fe8-4a9e-9138-e5e4d7b76f82"
   },
   "outputs": [],
   "source": [
    "#hide_output\n",
    "lista_tokens = nltk.tokenize.word_tokenize(artigos)\n",
    "lista_palavras = separa_palavras(lista_tokens)\n",
    "print(f\" O número de palavras é {len(lista_palavras)}\")"
   ]
  },
  {
   "cell_type": "code",
   "execution_count": null,
   "id": "066af2dc",
   "metadata": {
    "id": "066af2dc",
    "outputId": "6e8e86f7-931e-47ab-84da-997e5309f233"
   },
   "outputs": [],
   "source": [
    "#hide_output\n",
    "def normalizacao(lista_palavras):\n",
    "    lista_normalizada = []\n",
    "    for palavra in lista_palavras:\n",
    "        lista_normalizada.append(palavra.lower())\n",
    "    return lista_normalizada\n",
    "\n",
    "lista_normalizada = normalizacao(lista_palavras)\n",
    "print(lista_normalizada[:5])"
   ]
  },
  {
   "cell_type": "code",
   "execution_count": null,
   "id": "b3d97adf",
   "metadata": {
    "id": "b3d97adf",
    "outputId": "ad1ab74a-46f2-4b76-998f-52fffb245372"
   },
   "outputs": [],
   "source": [
    "#hide_output\n",
    "len(set(lista_normalizada))"
   ]
  },
  {
   "cell_type": "markdown",
   "id": "f2dcad39",
   "metadata": {
    "id": "f2dcad39"
   },
   "source": [
    "##### O algoritmo funcionará separando as palavras em (Esqueda + letra + Direita) isso vai ser percorrido por toda palavra, gerando possíveis candidatas à correção."
   ]
  },
  {
   "cell_type": "code",
   "execution_count": null,
   "id": "fc7108d2",
   "metadata": {
    "id": "fc7108d2",
    "outputId": "3e3a039a-41eb-4104-dae7-2b18cde7cd88"
   },
   "outputs": [],
   "source": [
    "#hide_output\n",
    "palavra_exemplo = 'lgica'\n",
    "\n",
    "\n",
    "\n",
    "def gerador_palavras(palavra):\n",
    "    fatias = []\n",
    "    for i in range(len(palavra)+1):\n",
    "        fatias.append((palavra[:i], palavra[i:]))\n",
    "    palavras_geradas = insere_letras(fatias)\n",
    "    return palavras_geradas\n",
    "    \n",
    "palavras_geradas = gerador_palavras(palavra_exemplo)\n",
    "print(palavras_geradas)"
   ]
  },
  {
   "cell_type": "code",
   "execution_count": null,
   "id": "c15e8fee",
   "metadata": {
    "id": "c15e8fee"
   },
   "outputs": [],
   "source": [
    "#hide_output\n",
    "def corretor(palavra):\n",
    "    palavras_geradas = gerador_palavras(palavra)\n",
    "    palavra_correta = max(palavras_geradas, key = probabilidade)\n",
    "    return palavra_correta"
   ]
  },
  {
   "cell_type": "code",
   "execution_count": null,
   "id": "8f84d022",
   "metadata": {
    "id": "8f84d022",
    "outputId": "0666028d-7eba-4630-85d8-cbfdf73f133a"
   },
   "outputs": [],
   "source": [
    "#hide_output\n",
    "frequencia = nltk.FreqDist(lista_normalizada)\n",
    "total_palavras = len(lista_normalizada)\n",
    "frequencia.most_common(10)"
   ]
  },
  {
   "cell_type": "code",
   "execution_count": null,
   "id": "a0d8b2b8",
   "metadata": {
    "id": "a0d8b2b8",
    "outputId": "d049b872-7a18-4c6a-82cd-993ec3c766eb"
   },
   "outputs": [],
   "source": [
    "#hide_output\n",
    "def probabilidade(palavras_gerada):\n",
    "    return frequencia[palavras_gerada] / total_palavras\n",
    "\n",
    "probabilidade(\"lógica\")"
   ]
  },
  {
   "cell_type": "code",
   "execution_count": null,
   "id": "0bede937",
   "metadata": {
    "id": "0bede937",
    "outputId": "9dbb244d-5c51-42f3-de65-c4a493696f85"
   },
   "outputs": [],
   "source": [
    "#hide_output\n",
    "corretor(palavra_exemplo)"
   ]
  },
  {
   "cell_type": "code",
   "execution_count": null,
   "id": "2540e500",
   "metadata": {
    "id": "2540e500",
    "outputId": "96db4a76-2468-4a47-96b9-0c0c396dedbc"
   },
   "outputs": [],
   "source": [
    "#hide_output\n",
    "def cria_dados_teste(nome_arquivo):\n",
    "    lista_palavras_teste = []\n",
    "    f = open(nome_arquivo, 'r', encoding = 'utf8')\n",
    "    for linha in f:\n",
    "        correta, errada = linha.split()\n",
    "        lista_palavras_teste.append((correta, errada))\n",
    "    f.close()\n",
    "    return lista_palavras_teste\n",
    "\n",
    "lista_teste = cria_dados_teste(\"dados/palavras.txt\")\n",
    "lista_teste"
   ]
  },
  {
   "cell_type": "code",
   "execution_count": null,
   "id": "e1940b35",
   "metadata": {
    "id": "e1940b35",
    "outputId": "a2363ab2-c1bb-4451-c881-d4f5febebacd"
   },
   "outputs": [],
   "source": [
    "#hide_output\n",
    "def avaliador(testes):\n",
    "    numero_palavras = len(testes)\n",
    "    acertou = 0\n",
    "    for correta, errada in testes:\n",
    "        palavra_corrigida = corretor(errada)\n",
    "        if palavra_corrigida == correta:\n",
    "            acertou += 1\n",
    "    taxa_acerto = round(acertou*100 / numero_palavras, 2)\n",
    "    print(f\"{taxa_acerto}% de {numero_palavras} palavras\")\n",
    "    \n",
    "avaliador(lista_teste)"
   ]
  },
  {
   "cell_type": "code",
   "execution_count": null,
   "id": "bcf4d936",
   "metadata": {
    "id": "bcf4d936",
    "outputId": "7eef5f24-6900-4a1d-df78-38c11c934ffa"
   },
   "outputs": [],
   "source": [
    "#hide_output\n",
    "corretor(\"lóigica\")"
   ]
  },
  {
   "cell_type": "code",
   "execution_count": null,
   "id": "6d7aed04",
   "metadata": {
    "id": "6d7aed04",
    "outputId": "e7c5a950-9f42-41e2-f1d9-8e4ce9cce4e4"
   },
   "outputs": [],
   "source": [
    "#hide_output\n",
    "avaliador(lista_teste)"
   ]
  },
  {
   "cell_type": "code",
   "execution_count": null,
   "id": "160805d5",
   "metadata": {
    "id": "160805d5",
    "outputId": "44e4f6d5-04cd-460a-a380-4ab3ba262261"
   },
   "outputs": [],
   "source": [
    "#hide_output\n",
    "def insere_letras(fatias):\n",
    "    novas_palavras = []\n",
    "    letras = 'abcdefghijklmnopqrstuvwxyzàáâãèéêìíîòóôõùúûç'\n",
    "    for E, D in fatias:\n",
    "        for letra in letras:\n",
    "            novas_palavras.append(E + letra + D)\n",
    "    return novas_palavras\n",
    "\n",
    "def deletando_caracteres(fatias):\n",
    "    novas_palavras = []\n",
    "    for E, D in fatias:\n",
    "        novas_palavras.append(E + D[1:])\n",
    "    return novas_palavras\n",
    "\n",
    "def troca_letra(fatias):\n",
    "    novas_palavras = []\n",
    "    letras = 'abcdefghijklmnopqrstuvwxyzàáâãèéêìíîòóôõùúûç'\n",
    "    for E, D in fatias:\n",
    "        for letra in letras:\n",
    "            novas_palavras.append(E + letra + D[1:])\n",
    "    return novas_palavras\n",
    "\n",
    "def invertendo_caracteres(fatias):\n",
    "    novas_palavras = []\n",
    "    for E, D in fatias:\n",
    "        if len(D) > 1:\n",
    "            novas_palavras.append(E + D[1] + D[0] + D[2:])\n",
    "    return novas_palavras\n",
    "\n",
    "def gerador_palavras(palavra):\n",
    "    fatias = []\n",
    "    for i in range(len(palavra)+1):\n",
    "        fatias.append((palavra[:i], palavra[i:]))\n",
    "    palavras_geradas = insere_letras(fatias)\n",
    "    palavras_geradas += deletando_caracteres(fatias)\n",
    "    palavras_geradas += troca_letra(fatias)\n",
    "    palavras_geradas += invertendo_caracteres(fatias)\n",
    "    return palavras_geradas\n",
    "\n",
    "palavra_exemplo = \"lgóica\"\n",
    "palavras_geradas = gerador_palavras(palavra_exemplo)\n",
    "print(palavras_geradas)"
   ]
  },
  {
   "cell_type": "code",
   "execution_count": null,
   "id": "7610bb58",
   "metadata": {
    "id": "7610bb58",
    "outputId": "77ffca27-12d2-4e57-a087-8c9994d46f9a"
   },
   "outputs": [],
   "source": [
    "#hide_output\n",
    "avaliador(lista_teste)"
   ]
  },
  {
   "cell_type": "code",
   "execution_count": null,
   "id": "c6bd0043",
   "metadata": {
    "id": "c6bd0043",
    "outputId": "c9706030-a9f8-40c6-8915-e266f8aed0f0"
   },
   "outputs": [],
   "source": [
    "#hide_output\n",
    "def avaliador(testes, vocabulario):\n",
    "    numero_palavras = len(testes)\n",
    "    acertou = 0\n",
    "    desconhecida = 0\n",
    "    for correta, errada in testes:\n",
    "        palavra_corrigida = corretor(errada)\n",
    "        if palavra_corrigida == correta:\n",
    "            acertou += 1\n",
    "        else:\n",
    "            desconhecida += (correta not in vocabulario)\n",
    "    taxa_acerto = round(acertou*100 / numero_palavras, 2)\n",
    "    taxa_desconhecida = round(desconhecida*100 / numero_palavras, 2)\n",
    "    print(f\"{taxa_acerto}% de {numero_palavras} palavras, desconhecida é {taxa_desconhecida}%\")\n",
    "    \n",
    "vocabulario = set(lista_normalizada)\n",
    "avaliador(lista_teste, vocabulario)"
   ]
  },
  {
   "cell_type": "code",
   "execution_count": null,
   "id": "40622a08",
   "metadata": {
    "id": "40622a08",
    "outputId": "8ac814a6-6324-4c5e-c868-808076467cf3"
   },
   "outputs": [],
   "source": [
    "#hide_output\n",
    "palavra = 'lóiigica'\n",
    "def gerador_turbinado(palavras_geradas):\n",
    "    novas_palavras = []\n",
    "    for palavra in palavras_geradas:\n",
    "        novas_palavras += gerador_palavras(palavra)\n",
    "    return novas_palavras\n",
    "\n",
    "palavras_g = gerador_turbinado(gerador_palavras(palavra))\n",
    "\"lógica\" in  palavras_g"
   ]
  },
  {
   "cell_type": "code",
   "execution_count": null,
   "id": "29d3b6b9",
   "metadata": {
    "id": "29d3b6b9",
    "outputId": "f8a7885e-13e8-4ab7-aff6-ccce737be0d0"
   },
   "outputs": [],
   "source": [
    "#hide_output\n",
    "len(palavras_g)"
   ]
  },
  {
   "cell_type": "code",
   "execution_count": null,
   "id": "a5cd450b",
   "metadata": {
    "id": "a5cd450b",
    "outputId": "b2008762-c089-4682-b6a5-7aa45265b41d"
   },
   "outputs": [],
   "source": [
    "#hide_output\n",
    "def novo_corretor(palavra):\n",
    "    palavras_geradas = gerador_palavras(palavra)\n",
    "    palavras_turbinado = gerador_turbinado(palavras_geradas)\n",
    "    todas_palavras = set(palavras_geradas + palavras_turbinado)\n",
    "    candidatos = [palavra]\n",
    "    for palavra in todas_palavras:\n",
    "        if palavra in vocabulario:\n",
    "            candidatos.append(palavra)\n",
    "    palavra_correta = max(candidatos, key = probabilidade)\n",
    "    return palavra_correta\n",
    "\n",
    "novo_corretor(palavra)"
   ]
  },
  {
   "cell_type": "code",
   "execution_count": null,
   "id": "75656f97",
   "metadata": {
    "id": "75656f97",
    "outputId": "a1fee397-dcee-4a50-8dc4-4c2aa8d539e7"
   },
   "outputs": [],
   "source": [
    "#hide_output\n",
    "def avaliador(testes, vocabulario):\n",
    "    numero_palavras = len(testes)\n",
    "    acertou = 0\n",
    "    desconhecida = 0\n",
    "    for correta, errada in testes:\n",
    "        palavra_corrigida = novo_corretor(errada)\n",
    "        desconhecida += (correta not in vocabulario)\n",
    "        if palavra_corrigida == correta:\n",
    "            acertou += 1\n",
    "        else:\n",
    "            print(errada + \" - \" + corretor(errada) + \" - \" + palavra_corrigida)\n",
    "    taxa_acerto = round(acertou*100 / numero_palavras, 2)\n",
    "    taxa_desconhecida = round(desconhecida*100 / numero_palavras, 2)\n",
    "    print(f\"{taxa_acerto}% de {numero_palavras} palavras, desconhecida é {taxa_desconhecida}%\")\n",
    "    \n",
    "vocabulario = set(lista_normalizada)\n",
    "avaliador(lista_teste, vocabulario)"
   ]
  },
  {
   "cell_type": "code",
   "execution_count": null,
   "id": "04df0e99",
   "metadata": {
    "id": "04df0e99",
    "outputId": "8a9038a0-75b4-400a-9c42-b050f99f22d5"
   },
   "outputs": [],
   "source": [
    "#hide_output\n",
    "def avaliador(testes, vocabulario):\n",
    "    numero_palavras = len(testes)\n",
    "    acertou = 0\n",
    "    desconhecida = 0\n",
    "    for correta, errada in testes:\n",
    "        palavra_corrigida = corretor(errada)\n",
    "        desconhecida += (correta not in vocabulario)\n",
    "        if palavra_corrigida == correta:\n",
    "            acertou += 1\n",
    "    taxa_acerto = round(acertou*100 / numero_palavras, 2)\n",
    "    taxa_desconhecida = round(desconhecida*100 / numero_palavras, 2)\n",
    "    print(f\"{taxa_acerto}% de {numero_palavras} palavras, desconhecida é {taxa_desconhecida}%\")\n",
    "    \n",
    "vocabulario = set(lista_normalizada)\n",
    "avaliador(lista_teste, vocabulario)"
   ]
  },
  {
   "cell_type": "code",
   "execution_count": null,
   "id": "ad84d067",
   "metadata": {
    "id": "ad84d067",
    "outputId": "d72a5590-d9e9-4df9-d114-feb269be08d3"
   },
   "outputs": [],
   "source": [
    "palavra = \"lóigica\"\n",
    "print(novo_corretor(palavra))\n",
    "print(corretor(palavra))"
   ]
  }
 ],
 "metadata": {
  "colab": {
   "name": "Corretor.ipynb",
   "provenance": []
  },
  "kernelspec": {
   "display_name": "Python 3 (ipykernel)",
   "language": "python",
   "name": "python3"
  },
  "language_info": {
   "codemirror_mode": {
    "name": "ipython",
    "version": 3
   },
   "file_extension": ".py",
   "mimetype": "text/x-python",
   "name": "python",
   "nbconvert_exporter": "python",
   "pygments_lexer": "ipython3",
   "version": "3.10.0"
  }
 },
 "nbformat": 4,
 "nbformat_minor": 5
}
